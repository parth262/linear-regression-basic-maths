{
 "cells": [
  {
   "cell_type": "markdown",
   "metadata": {},
   "source": [
    "# Linear Regression Basic Maths"
   ]
  },
  {
   "cell_type": "markdown",
   "metadata": {},
   "source": [
    "### Linear Regression is a supervised machine learning algorithm. Which means it takes inputs and outputs to learn the relationship first. Afterwards it tries to predict the output for unknown input."
   ]
  },
  {
   "cell_type": "markdown",
   "metadata": {},
   "source": [
    "* To understand this concept mathematically we will take one dimensional example, i.e we will try to predict output for only one input. Yes, there can be more than one input for one output. \n",
    "* Lets say our input is X and ouput is y. So we can say that y = f(X). Here f(X) denotes the relation ship between X and y.\n",
    "* Since we are taking one dimensional examples we can say that `y = mX + c`, where m and c are some constants. And if you remember this equation, it is just an equation of line where m is the slope and c is the bias of the line.\n",
    "* So all we need to do is to figure out the values for these constants which approximately satisfies the inputs and output relationship.\n",
    "* Linear regression is all about how to calculate this values. Lets get into some maths now."
   ]
  },
  {
   "cell_type": "markdown",
   "metadata": {},
   "source": [
    "### Step 1: \n",
    "\n",
    "Lets generate some sample data (inputs and outputs) using numpy."
   ]
  },
  {
   "cell_type": "code",
   "execution_count": 1,
   "metadata": {},
   "outputs": [],
   "source": [
    "import numpy as np\n",
    "import matplotlib.pyplot as plt\n",
    "from mpl_toolkits.mplot3d import Axes3D\n",
    "import random\n",
    "\n",
    "%matplotlib inline"
   ]
  },
  {
   "cell_type": "code",
   "execution_count": 2,
   "metadata": {},
   "outputs": [
    {
     "data": {
      "text/plain": [
       "array([-0.47496917,  1.16627136,  2.47164763,  3.28896999,  3.86730449,\n",
       "        4.62994414,  6.52723543,  8.26285891,  9.79939961, 10.89181742])"
      ]
     },
     "execution_count": 2,
     "metadata": {},
     "output_type": "execute_result"
    }
   ],
   "source": [
    "X_data = np.linspace(0, 10, 10) + np.random.uniform(-1, 1, 10)\n",
    "\n",
    "X_data"
   ]
  },
  {
   "cell_type": "code",
   "execution_count": 3,
   "metadata": {},
   "outputs": [
    {
     "data": {
      "text/plain": [
       "array([-0.99329794,  1.82209951,  1.29707809,  3.46806809,  4.82528922,\n",
       "        4.87247585,  6.36172849,  8.77192543,  8.47538432, 10.25735559])"
      ]
     },
     "execution_count": 3,
     "metadata": {},
     "output_type": "execute_result"
    }
   ],
   "source": [
    "y_data = np.linspace(0, 10, 10) + np.random.uniform(-1, 1, 10)\n",
    "\n",
    "y_data"
   ]
  },
  {
   "cell_type": "code",
   "execution_count": 4,
   "metadata": {},
   "outputs": [
    {
     "data": {
      "text/plain": [
       "Text(0, 0.5, 'outputs')"
      ]
     },
     "execution_count": 4,
     "metadata": {},
     "output_type": "execute_result"
    },
    {
     "data": {
      "image/png": "[encoded data removed]",
      "text/plain": [
       "<Figure size 432x288 with 1 Axes>"
      ]
     },
     "metadata": {
      "needs_background": "light"
     },
     "output_type": "display_data"
    }
   ],
   "source": [
    "plt.scatter(X_data, y_data)\n",
    "plt.plot([X_data[0], X_data[-1]], [y_data[0], y_data[-1]], color='r')\n",
    "plt.xlabel('inputs')\n",
    "plt.ylabel('outputs')"
   ]
  },
  {
   "cell_type": "markdown",
   "metadata": {},
   "source": [
    "#### I plotted the data as well as drawn a hypothetical line passing through this data. This line is not the final result yet. I am just connecting first and last point in graph. This line is just to visualize how we are going to solve this problem.\n",
    "#### We need to draw a line such that average of sum of distances between each point and line is minimum. This is because for a value of X we need as close approximation to the y as possible."
   ]
  },
  {
   "cell_type": "markdown",
   "metadata": {},
   "source": [
    "### Step 2:\n",
    "* We need to calculate `m` and `c`. But initially we have none of these values. We only have `X` and `y`. The question is what should be the initial values for `m` and `c` since we dont have anything. \n",
    "* We can start with random values.\n",
    "* Or we can start by calculating these values from above line by following equations.\n",
    "\n",
    "$m = \\frac{y_2 - y_1}{x_2 - x_1}$\n",
    "\n",
    "$c = y - mx$\n",
    "\n",
    "* But for simplicity let's just initialize with random variables."
   ]
  },
  {
   "cell_type": "code",
   "execution_count": 5,
   "metadata": {},
   "outputs": [
    {
     "data": {
      "text/plain": [
       "(0.671424519870409, 0.24723785696118739)"
      ]
     },
     "execution_count": 5,
     "metadata": {},
     "output_type": "execute_result"
    }
   ],
   "source": [
    "m = random.random()\n",
    "c = random.random()\n",
    "\n",
    "m, c"
   ]
  },
  {
   "cell_type": "markdown",
   "metadata": {},
   "source": [
    "## Let's visualize the line by putting above variable in the equation `y = mX+c`."
   ]
  },
  {
   "cell_type": "code",
   "execution_count": 6,
   "metadata": {},
   "outputs": [
    {
     "data": {
      "text/plain": [
       "array([-0.07166809,  1.03030105,  1.90676268,  2.45553295,  2.84384091,\n",
       "        3.35589588,  4.62978377,  5.79512394,  6.82679504,  7.56027114])"
      ]
     },
     "execution_count": 6,
     "metadata": {},
     "output_type": "execute_result"
    }
   ],
   "source": [
    "yhat = m*X_data + c\n",
    "\n",
    "yhat"
   ]
  },
  {
   "cell_type": "code",
   "execution_count": 7,
   "metadata": {},
   "outputs": [
    {
     "data": {
      "text/plain": [
       "Text(0, 0.5, 'outputs')"
      ]
     },
     "execution_count": 7,
     "metadata": {},
     "output_type": "execute_result"
    },
    {
     "data": {
      "image/png": "[encoded data removed]",
      "text/plain": [
       "<Figure size 432x288 with 1 Axes>"
      ]
     },
     "metadata": {
      "needs_background": "light"
     },
     "output_type": "display_data"
    }
   ],
   "source": [
    "plt.scatter(X_data, y_data)\n",
    "plt.plot(X_data, yhat, color='r')\n",
    "plt.xlabel('inputs')\n",
    "plt.ylabel('outputs')"
   ]
  },
  {
   "cell_type": "markdown",
   "metadata": {},
   "source": [
    "### Here `yhat` is the hypothesis or predicted value. We can see that this line is far from predicting correct value. Now we need to figure out a way to change `m` and `c` to bring this line more close to the points."
   ]
  },
  {
   "cell_type": "markdown",
   "metadata": {},
   "source": [
    "* Let's calculate the difference between predicted values `yhat` and actual values `y`. This is called the `error`. This will let us know how much farther away we are from the goal.\n",
    "* For optimization results we calculate the half of mean of square of differences between the `yhat` and `y`. This is called mean squared error function or cost function. Mathematically it can be represented as follows.\n",
    "\n",
    "$costfunction = \\frac{\\sum_{i=1}^{n}(yhat_{i} - y_{i})^{2}}{2n}$, where n is the number of data.\n",
    "\n",
    "* We just need to minimize this error or cost. In other words we need to reduce the values to as close to 0 as possible.\n",
    "* Since everything else is constant we can only change the `yhat` value.\n",
    "* But `yhat = m*X + c`. So if we replace yhat in above equation we get following equation.\n",
    "\n",
    "$costfunction = \\frac{\\sum_{i=1}^{n}((m*X + c) - y_{i})^{2}}{2n}$\n",
    "\n",
    "* Hence to minimize the above equation we need to tweak the values of `m` and `c` (`X` is constant as well)."
   ]
  },
  {
   "cell_type": "markdown",
   "metadata": {},
   "source": [
    "# Graph for Cost Function\n",
    "\n",
    "<span style=\"display:inline-block\"><img src=\"cost_function.png\" width=400/></span>"
   ]
  },
  {
   "cell_type": "markdown",
   "metadata": {},
   "source": [
    "### Step 3:\n",
    "* To minimize the cost function. we will use Gradient Descent algorithm. \n",
    "* In this algorithm, the gradient of the cost function with respect to the cause of the error is calculated. This gradient value will then be subtracted from the cause of the error which are `m` and `c`. This process will continue until we reduce the cost to nearly 0.\n",
    "* This does not necessarily mean that the values of `m` and `c` will also be reduced. The gradient is nothing but slope of the line (differentiation) or plane of the cost function which can be negative or positive.\n",
    "* Following equation represent the calculation to tweak the values of `m` and `c`\n",
    "\n",
    "$m = m - \\alpha\\frac{d}{d_m}C(m, c)$\n",
    "\n",
    "$c = c - \\alpha\\frac{d}{d_c}C(m, c)$\n",
    "\n",
    "where $C(m, c) = \\frac{\\sum_{i=1}^{n}((m*X + c) - y_{i})^{2}}{2n}$\n",
    "\n",
    "**Solving the above equations, we get following formulas**\n",
    "\n",
    "$m = m - \\alpha\\frac{\\sum_{i=1}^{n}((m*X + c) - y_{i})x_i}{n}$\n",
    "\n",
    "$c = c - \\alpha\\frac{\\sum_{i=1}^{n}((m*X + c) - y_{i})x_i}{n}$\n",
    "\n",
    "* Here $\\alpha$ is learning rate which controls the rate of change of values of `m` and `c`.\n",
    "* Now, let's implement this in code."
   ]
  },
  {
   "cell_type": "markdown",
   "metadata": {},
   "source": [
    "## The above process can be visualized as follows\n",
    "\n",
    "<span style=\"display:inline-block\"><img src=\"cost_function.gif\" width=400/></span>\n",
    "\n",
    "#### Here, we can say that X is m, Y is c and Z is C(m, c)"
   ]
  },
  {
   "cell_type": "code",
   "execution_count": 8,
   "metadata": {},
   "outputs": [
    {
     "name": "stdout",
     "output_type": "stream",
     "text": [
      "cost => 0.24993490470449156\n",
      "m => 0.9458097135951038\n",
      "c => 0.1463738060946716\n"
     ]
    }
   ],
   "source": [
    "alpha = 0.03\n",
    "m_1 = m\n",
    "c_1 = c\n",
    "\n",
    "def calculate_yhat(m, x, c):\n",
    "    return c + m*x\n",
    "\n",
    "def calculate_gradient_for_c(c, yhat, y, alpha):\n",
    "    return c - alpha*(np.sum(yhat-y)/len(y))\n",
    "\n",
    "def calculate_gradient_for_m(m, yhat, x, y, alpha):\n",
    "    return m - alpha*((np.sum((yhat-y)*x))/len(y))\n",
    "\n",
    "def cost_function(y, yhat):\n",
    "    return np.mean((yhat-y)**2)/2\n",
    "\n",
    "yhat = calculate_yhat(m_1, X_data, c_1)\n",
    "cost = cost_function(y_data, yhat)\n",
    "\n",
    "iteration = 0\n",
    "\n",
    "while cost >= 0.1 and iteration < 500:\n",
    "    m_1 = calculate_gradient_for_m(m_1, yhat, X_data, y_data, alpha)\n",
    "    c_1 = calculate_gradient_for_c(c_1, yhat, y_data, alpha)\n",
    "    yhat = calculate_yhat(m_1, X_data, c_1)\n",
    "    cost = cost_function(y_data, yhat)\n",
    "    iteration += 1\n",
    "\n",
    "print(\"cost => \" + str(cost))\n",
    "print(\"m => \" + str(m_1))\n",
    "print(\"c => \" + str(c_1))"
   ]
  },
  {
   "cell_type": "code",
   "execution_count": 9,
   "metadata": {},
   "outputs": [
    {
     "data": {
      "text/plain": [
       "[<matplotlib.lines.Line2D at 0x7ff69ab4eb70>]"
      ]
     },
     "execution_count": 9,
     "metadata": {},
     "output_type": "execute_result"
    },
    {
     "data": {
      "image/png": "[encoded data removed]",
      "text/plain": [
       "<Figure size 432x288 with 1 Axes>"
      ]
     },
     "metadata": {
      "needs_background": "light"
     },
     "output_type": "display_data"
    }
   ],
   "source": [
    "plt.scatter(X_data, y_data)\n",
    "plt.plot(X_data, yhat)"
   ]
  }
 ],
 "metadata": {
  "kernelspec": {
   "display_name": "Python 3",
   "language": "python",
   "name": "python3"
  },
  "language_info": {
   "codemirror_mode": {
    "name": "ipython",
    "version": 3
   },
   "file_extension": ".py",
   "mimetype": "text/x-python",
   "name": "python",
   "nbconvert_exporter": "python",
   "pygments_lexer": "ipython3",
   "version": "3.6.8"
  }
 },
 "nbformat": 4,
 "nbformat_minor": 2
}
