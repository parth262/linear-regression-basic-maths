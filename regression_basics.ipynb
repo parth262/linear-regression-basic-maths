{
 "cells": [
  {
   "cell_type": "markdown",
   "metadata": {},
   "source": [
    "# Linear Regression Basic Maths"
   ]
  },
  {
   "cell_type": "markdown",
   "metadata": {},
   "source": [
    "### Linear Regression is a supervised machine learning algorithm. Which means it takes inputs and outputs to learn the relationship first. Afterwards it tries to predict the output for unknown input."
   ]
  },
  {
   "cell_type": "markdown",
   "metadata": {},
   "source": [
    "* To understand this concept mathematically we will take one dimensional example, i.e we will try to predict output for only one input.\n",
    "* Lets say our input is x and ouput is y. So we can say that y = f(x). Here f(x) denotes the relation ship between x and y.\n",
    "* Since we are taking one dimensional examples we can say that `y = mx + c`, where m and c are some constants. And if you remember this equation, it is just an equation of line where m is the slope and c is the y-intercept of the line.\n",
    "* So all we need to do is to figure out the values for these constants which approximately satisfies the input and output relationship.\n",
    "* Linear regression is all about how to calculate this values. Lets get into some maths now."
   ]
  },
  {
   "cell_type": "markdown",
   "metadata": {},
   "source": [
    "## Step 1: \n",
    "### Lets generate some sample data (inputs and outputs) using numpy."
   ]
  },
  {
   "cell_type": "code",
   "execution_count": 2,
   "metadata": {},
   "outputs": [],
   "source": [
    "import numpy as np\n",
    "import matplotlib.pyplot as plt\n",
    "from mpl_toolkits.mplot3d import Axes3D\n",
    "import random\n",
    "\n",
    "%matplotlib inline"
   ]
  },
  {
   "cell_type": "code",
   "execution_count": 3,
   "metadata": {},
   "outputs": [
    {
     "data": {
      "text/plain": [
       "array([-0.62809495,  1.71652156,  2.47807229,  2.68179813,  5.29122281,\n",
       "        6.08617098,  6.94052665,  7.22373298,  8.79971246,  9.82760517])"
      ]
     },
     "execution_count": 3,
     "metadata": {},
     "output_type": "execute_result"
    }
   ],
   "source": [
    "X_data = np.linspace(0, 10, 10) + np.random.uniform(-1, 1, 10)\n",
    "\n",
    "X_data"
   ]
  },
  {
   "cell_type": "code",
   "execution_count": 4,
   "metadata": {},
   "outputs": [
    {
     "data": {
      "text/plain": [
       "array([ 0.01111565,  0.39934025,  1.33751944,  3.66284643,  5.43001036,\n",
       "        5.62509492,  6.54039406,  8.13490075,  8.86764669, 10.85721359])"
      ]
     },
     "execution_count": 4,
     "metadata": {},
     "output_type": "execute_result"
    }
   ],
   "source": [
    "y_data = np.linspace(0, 10, 10) + np.random.uniform(-1, 1, 10)\n",
    "\n",
    "y_data"
   ]
  },
  {
   "cell_type": "code",
   "execution_count": 5,
   "metadata": {},
   "outputs": [
    {
     "data": {
      "text/plain": [
       "Text(0, 0.5, 'outputs(y)')"
      ]
     },
     "execution_count": 5,
     "metadata": {},
     "output_type": "execute_result"
    },
    {
     "data": {
      "image/png": "[encoded data removed]",
      "text/plain": [
       "<Figure size 432x288 with 1 Axes>"
      ]
     },
     "metadata": {
      "needs_background": "light"
     },
     "output_type": "display_data"
    }
   ],
   "source": [
    "plt.scatter(X_data, y_data)\n",
    "plt.plot([X_data[0], X_data[-1]], [y_data[0], y_data[-1]], color='r')\n",
    "plt.xlabel('inputs(x)')\n",
    "plt.ylabel('outputs(y)')"
   ]
  },
  {
   "cell_type": "markdown",
   "metadata": {},
   "source": [
    "### I plotted the data as well as drawn a hypothetical line passing through this data. This line is not the final result yet. I am just connecting first and last point in graph. This line is just to visualize how we are going to solve this problem.\n",
    "### We need to draw a line such that average of distances between each point and line is minimum. This is because for a value of x we need as close approximation to the y as possible."
   ]
  },
  {
   "cell_type": "markdown",
   "metadata": {},
   "source": [
    "## Step 2:\n",
    "### We need to calculate `m` and `c`. But initially we have none of these values. We only have `x` and `y`. The question is what should be the initial values for `m` and `c` since we do not have anything. \n",
    "### We can simply start with random values."
   ]
  },
  {
   "cell_type": "code",
   "execution_count": 6,
   "metadata": {},
   "outputs": [
    {
     "data": {
      "text/plain": [
       "(0.5543352261956965, 0.8530159729864736)"
      ]
     },
     "execution_count": 6,
     "metadata": {},
     "output_type": "execute_result"
    }
   ],
   "source": [
    "m = random.random()\n",
    "c = random.random()\n",
    "\n",
    "m, c"
   ]
  },
  {
   "cell_type": "markdown",
   "metadata": {},
   "source": [
    "### Let's visualize the line by putting above randomly generated variables in the equation `y = mx+c`."
   ]
  },
  {
   "cell_type": "code",
   "execution_count": 7,
   "metadata": {},
   "outputs": [
    {
     "data": {
      "text/plain": [
       "array([0.50484082, 1.80454434, 2.22669874, 2.33963114, 3.78612717,\n",
       "       4.22679494, 4.70039438, 4.85738563, 5.73100657, 6.30080371])"
      ]
     },
     "execution_count": 7,
     "metadata": {},
     "output_type": "execute_result"
    }
   ],
   "source": [
    "yhat = m*X_data + c\n",
    "\n",
    "yhat"
   ]
  },
  {
   "cell_type": "markdown",
   "metadata": {},
   "source": [
    "### Using NumPy we can do operations on each element of array simultaneously. Hence we get prediction for each value (x) in X_data simultaneously here."
   ]
  },
  {
   "cell_type": "code",
   "execution_count": 8,
   "metadata": {},
   "outputs": [
    {
     "data": {
      "text/plain": [
       "Text(0, 0.5, 'outputs')"
      ]
     },
     "execution_count": 8,
     "metadata": {},
     "output_type": "execute_result"
    },
    {
     "data": {
      "image/png": "[encoded data removed]",
      "text/plain": [
       "<Figure size 432x288 with 1 Axes>"
      ]
     },
     "metadata": {
      "needs_background": "light"
     },
     "output_type": "display_data"
    }
   ],
   "source": [
    "plt.scatter(X_data, y_data)\n",
    "plt.plot(X_data, yhat, color='r')\n",
    "plt.xlabel('inputs')\n",
    "plt.ylabel('outputs')"
   ]
  },
  {
   "cell_type": "markdown",
   "metadata": {},
   "source": [
    "### Here `yhat` is the hypothesis or predicted value. We can see that this line is far from predicting correct value. Now we need to figure out a way to change `m` and `c` to bring this line more close to the points."
   ]
  },
  {
   "cell_type": "markdown",
   "metadata": {},
   "source": [
    "### Let's calculate the difference between predicted values `yhat` and actual values `y`. This is called the `error`. This will let us know how much far we are from the goal.\n",
    "### For optimization purpose we calculate the half of mean of square of differences between the `yhat` and `y`. This is called mean squared error function or cost function. Mathematically it can be represented as follows.\n",
    "\n",
    "### $costfunction = \\frac{\\sum_{i=1}^{n}(yhat_{i} - y_{i})^{2}}{2n}$, \n",
    "#### where $n$ is the number of data, \n",
    "#### $yhat_i$ is predicted value for $x_i$,\n",
    "#### $y_i$ is actual value for $x_i$.\n",
    "\n",
    "### We just need to minimize this error or cost. In other words we need to reduce the values to as close to 0 as possible.\n",
    "### Since everything else is constant we can only change the `yhat` value.\n",
    "### But $yhat_i = m*x_i + c$. So if we replace yhat in above equation we get following equation.\n",
    "\n",
    "### $costfunction = \\frac{\\sum_{i=1}^{n}((m*x_i + c) - y_{i})^{2}}{2n}$\n",
    "\n",
    "### Hence to minimize the above equation we need to tweak the values of `m` and `c`."
   ]
  },
  {
   "cell_type": "markdown",
   "metadata": {},
   "source": [
    "# Graph for Cost Function\n",
    "\n",
    "<span style=\"display:inline-block\"><img src=\"cost_function.png\" width=400/></span>"
   ]
  },
  {
   "cell_type": "markdown",
   "metadata": {},
   "source": [
    "## Step 3:\n",
    "### To minimize the cost function. we will use Gradient Descent algorithm. \n",
    "### In this algorithm, the gradient of the cost function with respect to the each causes of the error (`m` or `c`) is calculated. This gradient value will then be then subtracted from the respective cause of the error . This process will continue until we reduce the cost to nearly 0.\n",
    "### This does not necessarily mean that the values of `m` and `c` will also be reduced. The gradient is nothing but slope of the line (differentiation) of the cost function which can be negative or positive.\n",
    "### Following equation represent the calculation to tweak the values of `m` and `c`\n",
    "\n",
    "### $m = m - \\alpha\\frac{d}{d_m}C(m, c)$\n",
    "\n",
    "### $c = c - \\alpha\\frac{d}{d_c}C(m, c)$\n",
    "\n",
    "### where $C(m, c) = \\frac{\\sum_{i=1}^{n}((m*x_i + c) - y_{i})^{2}}{2n}$\n",
    "\n",
    "### Solving the above equations, we get following formulas\n",
    "\n",
    "### $m = m - \\alpha\\frac{\\sum_{i=1}^{n}((m*x_i + c) - y_{i})x_i}{n}$\n",
    "\n",
    "### $c = c - \\alpha\\frac{\\sum_{i=1}^{n}((m*x_i + c) - y_{i})}{n}$\n",
    "\n",
    "### Here $\\alpha$ is learning rate which controls the rate of change of values of `m` and `c`."
   ]
  },
  {
   "cell_type": "markdown",
   "metadata": {},
   "source": [
    "### The above process can be visualized as follows\n",
    "\n",
    "<span style=\"display:inline-block\"><img src=\"cost_function.gif\" width=400/></span>\n",
    "\n",
    "### In above graph we can asume that X-axis is m, Y-axis is c and Z-axis is C(m, c)\n",
    "\n",
    "### Now, let's implement this in code."
   ]
  },
  {
   "cell_type": "code",
   "execution_count": 25,
   "metadata": {},
   "outputs": [
    {
     "name": "stdout",
     "output_type": "stream",
     "text": [
      "Initial cost of the model => 2.707229137096532\n",
      "Cost of the model for iteration 1 => 0.5343181178269789\n",
      "Cost of the model for iteration 100 => 0.34661077082972336\n",
      "Cost of the model for iteration 200 => 0.3145733763363679\n",
      "Cost of the model for iteration 300 => 0.3086618688651289\n",
      "Cost of the model for iteration 400 => 0.30757108351459855\n",
      "Final cost of the model => 0.3073705891037621\n",
      "m => 1.069359439343998\n",
      "c => -0.29976377408914445\n"
     ]
    }
   ],
   "source": [
    "alpha = 0.03\n",
    "m_1 = m\n",
    "c_1 = c\n",
    "\n",
    "def calculate_yhat(m, x, c):\n",
    "    return c + m*x\n",
    "\n",
    "def calculate_gradient_for_c(c, yhat, y, alpha):\n",
    "    return alpha*(np.sum(yhat-y)/len(y))\n",
    "\n",
    "def calculate_gradient_for_m(m, yhat, x, y, alpha):\n",
    "    return alpha*((np.sum((yhat-y)*x))/len(y))\n",
    "\n",
    "def cost_function(y, yhat):\n",
    "    return np.mean((yhat-y)**2)/2\n",
    "\n",
    "yhat = calculate_yhat(m_1, X_data, c_1)\n",
    "cost = cost_function(y_data, yhat)\n",
    "\n",
    "print(\"Initial cost of the model => \" + str(cost))\n",
    "\n",
    "iteration = 1\n",
    "\n",
    "while cost >= 0.1 and iteration < 500:\n",
    "    m_1 -= calculate_gradient_for_m(m_1, yhat, X_data, y_data, alpha)\n",
    "    c_1 -= calculate_gradient_for_c(c_1, yhat, y_data, alpha)\n",
    "    yhat = calculate_yhat(m_1, X_data, c_1)\n",
    "    cost = cost_function(y_data, yhat)\n",
    "    if iteration % 100 == 0 or iteration == 1:\n",
    "        print(\"Cost of the model for iteration \" + str(iteration) + \" => \" + str(cost))\n",
    "    iteration += 1\n",
    "\n",
    "print(\"Final cost of the model => \" + str(cost))\n",
    "print(\"m => \" + str(m_1))\n",
    "print(\"c => \" + str(c_1))"
   ]
  },
  {
   "cell_type": "markdown",
   "metadata": {},
   "source": [
    "### Here you can see that for every iteration our cost is reducing, which means our model is getting better and better. \n",
    "### You can notice that for first few iterations our cost reduced at greater rate than for iterations around 400 to 500. This is because the slope is getting flatter as we go down. Hence the value of slope is reducing.\n",
    "### Lets visualize our final predictions on graph."
   ]
  },
  {
   "cell_type": "code",
   "execution_count": 23,
   "metadata": {},
   "outputs": [
    {
     "data": {
      "text/plain": [
       "<matplotlib.collections.PathCollection at 0x7fd53cbfa908>"
      ]
     },
     "execution_count": 23,
     "metadata": {},
     "output_type": "execute_result"
    },
    {
     "data": {
      "image/png": "[encoded data removed]",
      "text/plain": [
       "<Figure size 432x288 with 1 Axes>"
      ]
     },
     "metadata": {
      "needs_background": "light"
     },
     "output_type": "display_data"
    }
   ],
   "source": [
    "plt.scatter(X_data, y_data)\n",
    "plt.plot(X_data, yhat)\n",
    "plt.scatter(4, m_1*4+c_1)"
   ]
  }
 ],
 "metadata": {
  "kernelspec": {
   "display_name": "Python 3",
   "language": "python",
   "name": "python3"
  },
  "language_info": {
   "codemirror_mode": {
    "name": "ipython",
    "version": 3
   },
   "file_extension": ".py",
   "mimetype": "text/x-python",
   "name": "python",
   "nbconvert_exporter": "python",
   "pygments_lexer": "ipython3",
   "version": "3.6.7"
  }
 },
 "nbformat": 4,
 "nbformat_minor": 2
}
